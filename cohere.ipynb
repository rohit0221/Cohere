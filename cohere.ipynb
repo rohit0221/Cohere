{
 "cells": [
  {
   "cell_type": "code",
   "execution_count": 3,
   "metadata": {},
   "outputs": [
    {
     "data": {
      "text/plain": [
       "True"
      ]
     },
     "execution_count": 3,
     "metadata": {},
     "output_type": "execute_result"
    }
   ],
   "source": [
    "import os\n",
    "from dotenv import load_dotenv\n",
    "load_dotenv()"
   ]
  },
  {
   "cell_type": "code",
   "execution_count": 4,
   "metadata": {},
   "outputs": [],
   "source": [
    "from langchain_cohere import ChatCohere\n",
    "\n",
    "llm = ChatCohere()"
   ]
  },
  {
   "cell_type": "code",
   "execution_count": 5,
   "metadata": {},
   "outputs": [
    {
     "data": {
      "text/plain": [
       "AIMessage(content=\"Langsmith can help with testing and quality assurance in several ways:\\n\\n1. **Language Testing**: Langsmith can generate language-specific test cases and scenarios to ensure that your software or product works correctly in different languages. This includes testing for proper translation, localization, and cultural adaptability.\\n\\n2. **Conversation Testing**: Langsmith can be used to create conversational test scripts and scenarios, especially for chatbots and voice assistants. You can use it to generate a variety of user inputs, questions, and commands to test the system's understanding and response accuracy.\\n\\n3. **Content Testing**: The tool is useful for generating content for testing purposes, such as user instructions, error messages, or help documentation. By generating content in different styles and tones, you can ensure that your content is clear, consistent, and effective across different use cases.\\n\\n4. **Edge Case Exploration**: Langsmith can help identify edge cases and potential issues by generating diverse and creative language inputs. This can uncover bugs, errors, or unexpected behavior in your software, helping you improve its robustness and reliability.\\n\\n5. **Internationalization**: Langsmith supports multiple languages, so it can assist with testing for internationalization. This includes checking for proper handling of different character sets, text direction (left-to-right or right-to-left), and date/time/currency formats.\\n\\n6. **Collaborative Review**: Langsmith can facilitate collaborative review and feedback during testing. Teams can use it to discuss and refine test cases, share insights, and ensure that the testing process is comprehensive and efficient.\\n\\n7. **Test Data Generation**: Langsmith can generate large volumes of language-specific test data, including fake names, addresses, or product descriptions, which can be used to stress-test your systems and ensure they handle real-world language data effectively.\\n\\n8. **User Experience Testing**: By generating diverse user profiles and scenarios, Langsmith can help test the user experience of your product or service. This includes evaluating the language, tone, and overall user journey to ensure a positive and inclusive experience for all users.\\n\\n9. **A/B Testing**: Langsmith can assist in A/B testing by generating variations of text for marketing emails, website copy, or UI elements. This allows you to test different language styles and messages to optimize for better user engagement and conversion rates.\\n\\n10. **Continuous Integration and Testing**: Langsmith can be integrated into your continuous integration and testing pipelines. This enables automated testing with dynamically generated language content, ensuring that language-related issues are caught early in the development process.\\n\\nOverall, Langsmith's language generation capabilities can enhance your testing processes by providing diverse and creative language inputs, helping you identify issues, improve quality, and deliver a better user experience.\", additional_kwargs={'documents': None, 'citations': None, 'search_results': None, 'search_queries': None, 'is_search_required': None, 'generation_id': '012c087b-ad65-4105-8dd1-4188d0110fc8', 'token_count': {'input_tokens': 74, 'output_tokens': 560}}, response_metadata={'documents': None, 'citations': None, 'search_results': None, 'search_queries': None, 'is_search_required': None, 'generation_id': '012c087b-ad65-4105-8dd1-4188d0110fc8', 'token_count': {'input_tokens': 74, 'output_tokens': 560}}, id='run-4a0a51fd-32ac-4f17-81df-1a43b958ab48-0')"
      ]
     },
     "execution_count": 5,
     "metadata": {},
     "output_type": "execute_result"
    }
   ],
   "source": [
    "llm.invoke(\"how can langsmith help with testing?\")"
   ]
  },
  {
   "cell_type": "code",
   "execution_count": 6,
   "metadata": {},
   "outputs": [],
   "source": [
    "from langchain_core.prompts import ChatPromptTemplate\n",
    "prompt = ChatPromptTemplate.from_messages([\n",
    "    (\"system\", \"You are a world class technical documentation writer.\"),\n",
    "    (\"user\", \"{input}\")\n",
    "])"
   ]
  },
  {
   "cell_type": "code",
   "execution_count": 7,
   "metadata": {},
   "outputs": [],
   "source": [
    "from langchain_core.output_parsers import StrOutputParser\n",
    "\n",
    "output_parser = StrOutputParser()"
   ]
  },
  {
   "cell_type": "code",
   "execution_count": 8,
   "metadata": {},
   "outputs": [],
   "source": [
    "chain = prompt | llm | output_parser"
   ]
  },
  {
   "cell_type": "code",
   "execution_count": 9,
   "metadata": {},
   "outputs": [
    {
     "data": {
      "text/plain": [
       "\"Langsmith is a powerful tool that can greatly assist with testing and quality assurance processes. Here's how Langsmith can help:\\n\\n**1. Generate Test Data:** Langsmith can be used to generate a variety of realistic and contextually appropriate test data. You can create test cases, scenarios, and user inputs that mimic real-world usage, helping you identify and address potential issues before your product or service goes live.\\n\\n**2. Test Input Validation:** With its advanced language understanding capabilities, Langsmith can help test input validation and error handling. By generating a diverse range of inputs, including common variations, edge cases, and potential errors, you can ensure your system can handle different scenarios and provide appropriate responses.\\n\\n**3. Localization Testing:** If your product or service is targeted at a global audience, Langsmith's multilingual capabilities become especially useful. You can generate test content in multiple languages, helping you identify issues related to translation, character encoding, and cultural specificity.\\n\\n**4. Test Instruction Writing:** Langsmith can assist in writing clear and concise test instructions and documentation. By generating initial drafts, you can save time and effort in creating comprehensive test plans, user guides, and knowledge base articles.\\n\\n**5. Test Coverage:** Langsmith's ability to generate diverse and contextually relevant outputs ensures better test coverage. By using Langsmith to augment your test case repository, you can explore a wider range of scenarios and improve the overall quality of your product.\\n\\n**6. Automated Testing:** Langsmith's API enables seamless integration with automated testing frameworks. You can generate dynamic test inputs, simulate user interactions, and automatically validate expected outcomes, reducing the time and effort required for manual testing.\\n\\n**7. Performance Testing:** Langsmith can help generate large volumes of realistic test data for performance testing. This enables you to assess system behavior under load, stress, and scalability scenarios, ensuring your product performs optimally even in demanding conditions.\\n\\n**8. Usability Testing:** Langsmith's generated content can be used to conduct usability tests and gather user feedback. By presenting users with realistic scenarios and tasks, you can gain valuable insights into the user experience and make data-driven improvements.\\n\\n**9. A/B Testing:** Langsmith can assist in A/B testing by generating variations of content, such as marketing copy or user interface text. This enables you to test different versions with real users and optimize based on their preferences and interactions.\\n\\n**10. Regression Testing:** Langsmith can aid in maintaining test suites for regression testing. By generating test cases that cover previously implemented features, you can quickly identify and fix regressions introduced during development or maintenance.\\n\\nBy leveraging Langsmith's capabilities, you can streamline your testing processes, improve test coverage, and enhance the overall quality of your products and services. Its language generation and transformation capabilities open up new avenues for comprehensive and efficient testing.\""
      ]
     },
     "execution_count": 9,
     "metadata": {},
     "output_type": "execute_result"
    }
   ],
   "source": [
    "chain.invoke({\"input\": \"how can langsmith help with testing?\"})"
   ]
  },
  {
   "cell_type": "code",
   "execution_count": 10,
   "metadata": {},
   "outputs": [],
   "source": [
    "from langchain_cohere.embeddings import CohereEmbeddings\n",
    "embeddings = CohereEmbeddings()"
   ]
  },
  {
   "cell_type": "code",
   "execution_count": 11,
   "metadata": {},
   "outputs": [],
   "source": [
    "from langchain_community.document_loaders import PyPDFLoader"
   ]
  },
  {
   "cell_type": "code",
   "execution_count": 27,
   "metadata": {},
   "outputs": [],
   "source": [
    "from PyPDF2 import PdfReader\n",
    "pdf_docs=\"documents\\Budget_Speech.pdf\"\n",
    "pdf_reader= PdfReader(pdf_docs)"
   ]
  },
  {
   "cell_type": "code",
   "execution_count": 28,
   "metadata": {},
   "outputs": [],
   "source": [
    "text=\"\"\n",
    "for page in pdf_reader.pages:\n",
    "    text+= page.extract_text()"
   ]
  },
  {
   "cell_type": "code",
   "execution_count": 30,
   "metadata": {},
   "outputs": [],
   "source": [
    "text_splitter = RecursiveCharacterTextSplitter(chunk_size=10000, chunk_overlap=1000)\n",
    "chunks = text_splitter.split_text(text)"
   ]
  },
  {
   "cell_type": "code",
   "execution_count": 37,
   "metadata": {},
   "outputs": [],
   "source": [
    "from langchain_community.vectorstores import FAISS\n",
    "vector_store = FAISS.from_texts(chunks, embedding=embeddings)\n",
    "vector_store.save_local(\"faiss_index\")"
   ]
  },
  {
   "cell_type": "code",
   "execution_count": 34,
   "metadata": {},
   "outputs": [],
   "source": [
    "from langchain.chains import create_retrieval_chain\n",
    "\n",
    "retriever = vector_store.as_retriever()\n",
    "retrieval_chain = create_retrieval_chain(retriever, document_chain)"
   ]
  },
  {
   "cell_type": "code",
   "execution_count": 36,
   "metadata": {},
   "outputs": [
    {
     "name": "stdout",
     "output_type": "stream",
     "text": [
      "In the 2023-24 Budget Speech by the Finance Minister of India, Nirmala Sitharaman, the term \"Amrit Kaal\" refers to a period of growth, development, and transformation that the country aims to achieve as it moves towards its 100th year of independence in 2047. The vision for Amrit Kaal focuses on creating a technology-driven and knowledge-based economy with strong public finances and a robust financial sector.\n",
      "\n",
      "To achieve this vision, the budget outlines seven key priorities, including inclusive development, reaching the last mile, infrastructure and investment, unleashing the potential, green growth, youth power, and strengthening the financial sector. The government aims to facilitate ample opportunities for citizens, especially the youth, to fulfill their aspirations, provide a strong impetus to growth and job creation, and enhance macroeconomic stability.\n",
      "\n",
      "During Amrit Kaal, the government plans to empower women economically through the Deendayal Antyodaya Yojana National Rural Livelihood Mission, promote traditional artisans and craftspeople through the PM VIshwakarma KAushal Samman (PM VIKAS) scheme, tap into the potential of the tourism sector, and promote green growth initiatives.\n",
      "\n",
      "The budget also emphasizes the importance of capital investment as a driver of growth and jobs, with a steep increase in capital investment outlay for the third consecutive year. This is expected to enhance growth potential, crowd-in private investments, and provide a cushion against global headwinds.\n"
     ]
    }
   ],
   "source": [
    "response = retrieval_chain.invoke({\"input\": \"tell me about amrit kaal from budget 2024.\"})\n",
    "print(response[\"answer\"])\n",
    "\n",
    "# LangSmith offers several features that can help with testing:..."
   ]
  },
  {
   "cell_type": "code",
   "execution_count": 26,
   "metadata": {},
   "outputs": [],
   "source": [
    "from langchain.chains import create_history_aware_retriever\n",
    "from langchain_core.prompts import MessagesPlaceholder\n",
    "\n",
    "# First we need a prompt that we can pass into an LLM to generate this search query\n",
    "\n",
    "prompt = ChatPromptTemplate.from_messages([\n",
    "    MessagesPlaceholder(variable_name=\"chat_history\"),\n",
    "    (\"user\", \"{input}\"),\n",
    "    (\"user\", \"Given the above conversation, generate a search query to look up to get information relevant to the conversation\")\n",
    "])\n",
    "retriever_chain = create_history_aware_retriever(llm, retriever, prompt)"
   ]
  },
  {
   "cell_type": "code",
   "execution_count": null,
   "metadata": {},
   "outputs": [],
   "source": []
  }
 ],
 "metadata": {
  "kernelspec": {
   "display_name": "Python 3",
   "language": "python",
   "name": "python3"
  },
  "language_info": {
   "codemirror_mode": {
    "name": "ipython",
    "version": 3
   },
   "file_extension": ".py",
   "mimetype": "text/x-python",
   "name": "python",
   "nbconvert_exporter": "python",
   "pygments_lexer": "ipython3",
   "version": "3.10.14"
  }
 },
 "nbformat": 4,
 "nbformat_minor": 2
}
